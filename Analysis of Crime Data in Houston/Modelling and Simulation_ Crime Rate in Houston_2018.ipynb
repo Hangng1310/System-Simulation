{
 "cells": [
  {
   "cell_type": "markdown",
   "metadata": {},
   "source": [
    "# Analysis of Crime Rate in Houston, USA\n",
    " Dataset : http://www.houstontx.gov/police/cs/crime-stats-archives.htm <br>\n",
    " Time : January 2018\n",
    "\n",
    "### Goals : Answeer questions in the following\n",
    "1. Which one is the highly committed crime in Houston?\n",
    "2. Do some offences tend to occur more frequently in particular hours in a day?\n",
    "3. Are there any crime in specific days of week?"
   ]
  },
  {
   "cell_type": "code",
   "execution_count": 4,
   "metadata": {},
   "outputs": [],
   "source": [
    "# Import libraries\n",
    "import pandas as pd\n",
    "import numpy as np\n",
    "import calendar\n",
    "from datetime import datetime\n",
    "import matplotlib.pyplot as plt\n",
    "%matplotlib inline"
   ]
  },
  {
   "cell_type": "code",
   "execution_count": 11,
   "metadata": {},
   "outputs": [
    {
     "data": {
      "text/html": [
       "<div>\n",
       "<style scoped>\n",
       "    .dataframe tbody tr th:only-of-type {\n",
       "        vertical-align: middle;\n",
       "    }\n",
       "\n",
       "    .dataframe tbody tr th {\n",
       "        vertical-align: top;\n",
       "    }\n",
       "\n",
       "    .dataframe thead th {\n",
       "        text-align: right;\n",
       "    }\n",
       "</style>\n",
       "<table border=\"1\" class=\"dataframe\">\n",
       "  <thead>\n",
       "    <tr style=\"text-align: right;\">\n",
       "      <th></th>\n",
       "      <th>Date</th>\n",
       "      <th>Hour</th>\n",
       "      <th>Offense Type</th>\n",
       "      <th>Beat</th>\n",
       "      <th>Premise</th>\n",
       "      <th>Block Range</th>\n",
       "      <th>Street Name</th>\n",
       "      <th>Type</th>\n",
       "      <th>Suffix</th>\n",
       "      <th>Offenses</th>\n",
       "    </tr>\n",
       "  </thead>\n",
       "  <tbody>\n",
       "    <tr>\n",
       "      <th>0</th>\n",
       "      <td>01/01/2018</td>\n",
       "      <td>18</td>\n",
       "      <td>Robbery</td>\n",
       "      <td>10H10</td>\n",
       "      <td>Field, Woods, Forest, Park</td>\n",
       "      <td>200-299</td>\n",
       "      <td>LENOX</td>\n",
       "      <td>-</td>\n",
       "      <td>-</td>\n",
       "      <td>1</td>\n",
       "    </tr>\n",
       "    <tr>\n",
       "      <th>1</th>\n",
       "      <td>01/01/2018</td>\n",
       "      <td>18</td>\n",
       "      <td>Theft</td>\n",
       "      <td>10H10</td>\n",
       "      <td>Road, Street, or Sidewalk</td>\n",
       "      <td>3700-3799</td>\n",
       "      <td>HOUSTON LAKE</td>\n",
       "      <td>DR</td>\n",
       "      <td>-</td>\n",
       "      <td>1</td>\n",
       "    </tr>\n",
       "    <tr>\n",
       "      <th>2</th>\n",
       "      <td>01/02/2018</td>\n",
       "      <td>14</td>\n",
       "      <td>Theft</td>\n",
       "      <td>10H10</td>\n",
       "      <td>Auto Repair</td>\n",
       "      <td>16700-16799</td>\n",
       "      <td>EASTEX</td>\n",
       "      <td>-</td>\n",
       "      <td>-</td>\n",
       "      <td>1</td>\n",
       "    </tr>\n",
       "    <tr>\n",
       "      <th>3</th>\n",
       "      <td>01/04/2018</td>\n",
       "      <td>8</td>\n",
       "      <td>Burglary</td>\n",
       "      <td>10H10</td>\n",
       "      <td>Auto Repair</td>\n",
       "      <td>4700-4799</td>\n",
       "      <td>HARRISBURG</td>\n",
       "      <td>BLVD</td>\n",
       "      <td>-</td>\n",
       "      <td>1</td>\n",
       "    </tr>\n",
       "    <tr>\n",
       "      <th>4</th>\n",
       "      <td>01/04/2018</td>\n",
       "      <td>18</td>\n",
       "      <td>Theft</td>\n",
       "      <td>10H10</td>\n",
       "      <td>Department or Discount Store</td>\n",
       "      <td>5100-5199</td>\n",
       "      <td>HARRISBURG</td>\n",
       "      <td>BLVD</td>\n",
       "      <td>-</td>\n",
       "      <td>1</td>\n",
       "    </tr>\n",
       "  </tbody>\n",
       "</table>\n",
       "</div>"
      ],
      "text/plain": [
       "         Date  Hour Offense Type   Beat                       Premise  \\\n",
       "0  01/01/2018    18      Robbery  10H10    Field, Woods, Forest, Park   \n",
       "1  01/01/2018    18        Theft  10H10     Road, Street, or Sidewalk   \n",
       "2  01/02/2018    14        Theft  10H10                   Auto Repair   \n",
       "3  01/04/2018     8     Burglary  10H10                   Auto Repair   \n",
       "4  01/04/2018    18        Theft  10H10  Department or Discount Store   \n",
       "\n",
       "   Block Range   Street Name  Type Suffix  Offenses  \n",
       "0      200-299         LENOX     -      -         1  \n",
       "1    3700-3799  HOUSTON LAKE    DR      -         1  \n",
       "2  16700-16799        EASTEX     -      -         1  \n",
       "3    4700-4799    HARRISBURG  BLVD      -         1  \n",
       "4    5100-5199    HARRISBURG  BLVD      -         1  "
      ]
     },
     "execution_count": 11,
     "metadata": {},
     "output_type": "execute_result"
    }
   ],
   "source": [
    "df=pd.read_excel(\"C://Users/Admin/Desktop/Presentation for Simulation/Crime Rate/jan18.xls\")\n",
    "df.head(5)"
   ]
  },
  {
   "cell_type": "code",
   "execution_count": 12,
   "metadata": {},
   "outputs": [
    {
     "data": {
      "text/plain": [
       "Index(['Date', 'Hour', 'Offense Type', 'Beat', 'Premise', 'Block Range',\n",
       "       'Street Name', 'Type', 'Suffix', 'Offenses'],\n",
       "      dtype='object')"
      ]
     },
     "execution_count": 12,
     "metadata": {},
     "output_type": "execute_result"
    }
   ],
   "source": [
    "df.columns"
   ]
  },
  {
   "cell_type": "markdown",
   "metadata": {},
   "source": [
    "## Modify data : \n",
    "- Caculate House Number : calculate as avarage number of block range\n",
    "- Add columns for happen time of crime events : Hour, Day of Week "
   ]
  },
  {
   "cell_type": "code",
   "execution_count": 14,
   "metadata": {},
   "outputs": [
    {
     "name": "stdout",
     "output_type": "stream",
     "text": [
      "Dimension of data (9882, 7)\n"
     ]
    },
    {
     "data": {
      "text/html": [
       "<div>\n",
       "<style scoped>\n",
       "    .dataframe tbody tr th:only-of-type {\n",
       "        vertical-align: middle;\n",
       "    }\n",
       "\n",
       "    .dataframe tbody tr th {\n",
       "        vertical-align: top;\n",
       "    }\n",
       "\n",
       "    .dataframe thead th {\n",
       "        text-align: right;\n",
       "    }\n",
       "</style>\n",
       "<table border=\"1\" class=\"dataframe\">\n",
       "  <thead>\n",
       "    <tr style=\"text-align: right;\">\n",
       "      <th></th>\n",
       "      <th>Date</th>\n",
       "      <th>Hour</th>\n",
       "      <th>DayOfWeek</th>\n",
       "      <th>Category</th>\n",
       "      <th>Offenses</th>\n",
       "      <th>Beat</th>\n",
       "      <th>Address</th>\n",
       "    </tr>\n",
       "  </thead>\n",
       "  <tbody>\n",
       "    <tr>\n",
       "      <th>0</th>\n",
       "      <td>01/01/2018</td>\n",
       "      <td>18</td>\n",
       "      <td>Monday</td>\n",
       "      <td>Robbery</td>\n",
       "      <td>1</td>\n",
       "      <td>10H10</td>\n",
       "      <td>250 LENOX , Houston, TX</td>\n",
       "    </tr>\n",
       "    <tr>\n",
       "      <th>1</th>\n",
       "      <td>01/01/2018</td>\n",
       "      <td>18</td>\n",
       "      <td>Monday</td>\n",
       "      <td>Theft</td>\n",
       "      <td>1</td>\n",
       "      <td>10H10</td>\n",
       "      <td>3750 HOUSTON LAKE , Houston, TX</td>\n",
       "    </tr>\n",
       "    <tr>\n",
       "      <th>2</th>\n",
       "      <td>01/02/2018</td>\n",
       "      <td>14</td>\n",
       "      <td>Tuesday</td>\n",
       "      <td>Theft</td>\n",
       "      <td>1</td>\n",
       "      <td>10H10</td>\n",
       "      <td>16750 EASTEX , Houston, TX</td>\n",
       "    </tr>\n",
       "    <tr>\n",
       "      <th>3</th>\n",
       "      <td>01/04/2018</td>\n",
       "      <td>8</td>\n",
       "      <td>Thursday</td>\n",
       "      <td>Burglary</td>\n",
       "      <td>1</td>\n",
       "      <td>10H10</td>\n",
       "      <td>4750 HARRISBURG , Houston, TX</td>\n",
       "    </tr>\n",
       "    <tr>\n",
       "      <th>4</th>\n",
       "      <td>01/04/2018</td>\n",
       "      <td>18</td>\n",
       "      <td>Thursday</td>\n",
       "      <td>Theft</td>\n",
       "      <td>1</td>\n",
       "      <td>10H10</td>\n",
       "      <td>5150 HARRISBURG , Houston, TX</td>\n",
       "    </tr>\n",
       "  </tbody>\n",
       "</table>\n",
       "</div>"
      ],
      "text/plain": [
       "         Date  Hour DayOfWeek  Category  Offenses   Beat  \\\n",
       "0  01/01/2018    18    Monday   Robbery         1  10H10   \n",
       "1  01/01/2018    18    Monday     Theft         1  10H10   \n",
       "2  01/02/2018    14   Tuesday     Theft         1  10H10   \n",
       "3  01/04/2018     8  Thursday  Burglary         1  10H10   \n",
       "4  01/04/2018    18  Thursday     Theft         1  10H10   \n",
       "\n",
       "                           Address  \n",
       "0          250 LENOX , Houston, TX  \n",
       "1  3750 HOUSTON LAKE , Houston, TX  \n",
       "2       16750 EASTEX , Houston, TX  \n",
       "3    4750 HARRISBURG , Houston, TX  \n",
       "4    5150 HARRISBURG , Houston, TX  "
      ]
     },
     "execution_count": 14,
     "metadata": {},
     "output_type": "execute_result"
    }
   ],
   "source": [
    "houseno = df['Block Range'].str.extract('(?P<start_addr>\\d+)-(?P<end_addr>\\d+)', expand=False)\n",
    "df['HouseNo'] = (houseno.start_addr.astype(float) + houseno.end_addr.astype(float) + 1.0) / 2\n",
    "df['HouseNo'] = df['HouseNo'].fillna(50.0)\n",
    "df['Address'] = df.HouseNo.astype(int).map(str) + ' ' + df['Street Name'].map(str) + ' '+ ', Houston, TX'\n",
    "\n",
    "df = df.rename(columns={'Offense Type' : 'Category'})\n",
    "df['Hour'] =df['Hour'].apply(lambda x : int(float(x.replace(\"'\", \"\"))) if type(x) == str else int(float(x)))\n",
    "\n",
    "\n",
    "df['DayOfWeek']=  pd.to_datetime(df['Date'], format='%m/%d/%Y').dt.weekday_name  \n",
    "df = df.rename(columns={'# offenses' : 'Offenses'})\n",
    "analysis = df[['Date', 'Hour', 'DayOfWeek', 'Category', 'Offenses', 'Beat', 'Address']]\n",
    "print(\"Dimension of data\",analysis.shape)\n",
    "analysis.head()"
   ]
  },
  {
   "cell_type": "markdown",
   "metadata": {},
   "source": []
  },
  {
   "cell_type": "markdown",
   "metadata": {},
   "source": [
    "# Ovierview crime situation "
   ]
  },
  {
   "cell_type": "markdown",
   "metadata": {},
   "source": [
    "## Which one is the highly committed crime in Houston?"
   ]
  },
  {
   "cell_type": "code",
   "execution_count": 32,
   "metadata": {},
   "outputs": [
    {
     "data": {
      "text/plain": [
       "Category\n",
       "Theft                 5480\n",
       "Burglary              1544\n",
       "AutoTheft              920\n",
       "Robbery                908\n",
       "Aggravated Assault     903\n",
       "Rape                    91\n",
       "Murder                  24\n",
       "Name: Offenses, dtype: int64"
      ]
     },
     "execution_count": 32,
     "metadata": {},
     "output_type": "execute_result"
    }
   ],
   "source": [
    "groups= analysis.drop_duplicates().groupby('Category')['Offenses'].count()\n",
    "groups.sort_values(ascending=False)"
   ]
  },
  {
   "cell_type": "code",
   "execution_count": 16,
   "metadata": {},
   "outputs": [
    {
     "data": {
      "text/plain": [
       "Text(0, 0.5, 'Number of Crime')"
      ]
     },
     "execution_count": 16,
     "metadata": {},
     "output_type": "execute_result"
    },
    {
     "data": {
      "image/png": "[encoded data removed]",
      "text/plain": [
       "<Figure size 432x288 with 1 Axes>"
      ]
     },
     "metadata": {
      "needs_background": "light"
     },
     "output_type": "display_data"
    }
   ],
   "source": [
    "# Visuliazation of crime as category\n",
    "groups = groups.sort_values(ascending=False)\n",
    "plt.figure()\n",
    "for i, v in enumerate(groups.values):\n",
    " \tplt.text (i-0.2 ,v + 115, str(v),  fontsize=8,color='blue', fontweight='bold')\n",
    "groups.plot(kind='bar', title=\"Crimes in Houston,Texas - Jan/2018\")\n",
    "plt.ylabel('Number of Crime')"
   ]
  },
  {
   "cell_type": "markdown",
   "metadata": {},
   "source": [
    "## Are there any crime in specific days of week?"
   ]
  },
  {
   "cell_type": "code",
   "execution_count": 17,
   "metadata": {},
   "outputs": [
    {
     "data": {
      "text/plain": [
       "<matplotlib.axes._subplots.AxesSubplot at 0x17aeba2a898>"
      ]
     },
     "execution_count": 17,
     "metadata": {},
     "output_type": "execute_result"
    },
    {
     "data": {
      "image/png": "[encoded data removed]",
      "text/plain": [
       "<Figure size 432x288 with 1 Axes>"
      ]
     },
     "metadata": {
      "needs_background": "light"
     },
     "output_type": "display_data"
    }
   ],
   "source": [
    "weekdays = ['Monday', 'Tuesday', 'Wednesday', 'Thursday', 'Friday', 'Saturday', 'Sunday']\n",
    "groupsPerDay = analysis.groupby(\"DayOfWeek\")[\"Offenses\"].sum()\n",
    "groupsPerDay = groupsPerDay.sort_values(ascending=False)\n",
    "groupsPerDay=groupsPerDay[weekdays]\n",
    "plt.figure()\n",
    "for i, v in enumerate(groupsPerDay.values):\n",
    " \tplt.text (i-0.2 ,v + 50, str(v),  fontsize=8,color='blue', fontweight='bold')\n",
    "plt.ylabel('Number')\n",
    "plt.xlabel(\"Day of Week\")\n",
    "groupsPerDay.plot(kind='bar', title=\"Distribution of crimes on Days of a week in Houston,Texas - Jan/2018\")\n"
   ]
  },
  {
   "cell_type": "markdown",
   "metadata": {},
   "source": [
    "## Do some offences tend to occur more frequently in particular hours in a day?\n",
    "\n",
    "### Which crime occur frequently during the day-time ?"
   ]
  },
  {
   "cell_type": "code",
   "execution_count": 29,
   "metadata": {
    "scrolled": true
   },
   "outputs": [
    {
     "data": {
      "text/plain": [
       "<matplotlib.axes._subplots.AxesSubplot at 0x17aed2832b0>"
      ]
     },
     "execution_count": 29,
     "metadata": {},
     "output_type": "execute_result"
    },
    {
     "data": {
      "image/png": "[encoded data removed]",
      "text/plain": [
       "<Figure size 1440x360 with 2 Axes>"
      ]
     },
     "metadata": {
      "needs_background": "light"
     },
     "output_type": "display_data"
    }
   ],
   "source": [
    "fig, axs = plt.subplots(1,2)\n",
    "hours = [x for x in range(24)]\n",
    "df_theft = analysis[analysis.Category == \"Theft\"]\n",
    "gr_theft = df_theft.groupby(\"Hour\")[\"Category\"].count()\n",
    "gr_theft = gr_theft[hours]\n",
    "\n",
    "df_burglary = df[analysis.Category == \"AutoTheft\"]\n",
    "gr_burglary = df_burglary.groupby(\"Hour\")[\"Category\"].count()\n",
    "gr_burglary = gr_burglary[hours]\n",
    "\n",
    "gr_theft.plot(kind=\"bar\", title=\"Theft per hour\", ax=axs[0])\n",
    "gr_burglary.plot(kind=\"bar\", title=\"Auto theft per hour\", ax=axs[1], figsize=(20, 5))"
   ]
  },
  {
   "cell_type": "markdown",
   "metadata": {},
   "source": [
    " ### Aggravated Assault occur frequently from noon to night "
   ]
  },
  {
   "cell_type": "code",
   "execution_count": 30,
   "metadata": {},
   "outputs": [
    {
     "data": {
      "text/plain": [
       "<matplotlib.axes._subplots.AxesSubplot at 0x17aed3ab6d8>"
      ]
     },
     "execution_count": 30,
     "metadata": {},
     "output_type": "execute_result"
    },
    {
     "data": {
      "image/png": "[encoded data removed]",
      "text/plain": [
       "<Figure size 432x288 with 1 Axes>"
      ]
     },
     "metadata": {
      "needs_background": "light"
     },
     "output_type": "display_data"
    }
   ],
   "source": [
    "asDay = analysis[analysis.Category == \"Aggravated Assault\"]\n",
    "aDay = asDay.groupby(\"Hour\")[\"Category\"].count()\n",
    "aDay = aDay[hours]\n",
    "plt.ylabel('Number')\n",
    "aDay.plot(kind=\"bar\", title=\"Aggravated Assault per hour\")\n"
   ]
  },
  {
   "cell_type": "markdown",
   "metadata": {},
   "source": [
    "## Robbery occur frequently in the evening"
   ]
  },
  {
   "cell_type": "code",
   "execution_count": 28,
   "metadata": {},
   "outputs": [
    {
     "data": {
      "text/plain": [
       "<matplotlib.axes._subplots.AxesSubplot at 0x17aed22eb38>"
      ]
     },
     "execution_count": 28,
     "metadata": {},
     "output_type": "execute_result"
    },
    {
     "data": {
      "image/png": "[encoded data removed]",
      "text/plain": [
       "<Figure size 432x288 with 1 Axes>"
      ]
     },
     "metadata": {
      "needs_background": "light"
     },
     "output_type": "display_data"
    }
   ],
   "source": [
    "\n",
    "asDay = analysis[analysis.Category == \"Robbery\"]\n",
    "aDay = asDay.groupby(\"Hour\")[\"Category\"].count()\n",
    "aDay = aDay[hours]\n",
    "plt.ylabel('Number')\n",
    "aDay.plot(kind=\"bar\", title=\"Robbery per hour\")"
   ]
  },
  {
   "cell_type": "code",
   "execution_count": null,
   "metadata": {},
   "outputs": [],
   "source": []
  }
 ],
 "metadata": {
  "kernelspec": {
   "display_name": "Python 3",
   "language": "python",
   "name": "python3"
  },
  "language_info": {
   "codemirror_mode": {
    "name": "ipython",
    "version": 3
   },
   "file_extension": ".py",
   "mimetype": "text/x-python",
   "name": "python",
   "nbconvert_exporter": "python",
   "pygments_lexer": "ipython3",
   "version": "3.6.7"
  }
 },
 "nbformat": 4,
 "nbformat_minor": 2
}
